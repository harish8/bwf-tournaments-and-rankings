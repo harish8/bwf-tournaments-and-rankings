{
 "cells": [
  {
   "cell_type": "markdown",
   "id": "2fada0f8-bdcd-4b89-ae4d-ad06e224e9e0",
   "metadata": {
    "editable": true,
    "slideshow": {
     "slide_type": ""
    },
    "tags": []
   },
   "source": [
    "First things first, lets add Streamlit support. \n",
    "In order to use streamlit in a jupyter notebook `streamlit_jupyter` is a neat package to work with. \n",
    "\n",
    "We also use `nbdev` to export only relevant cells of notebook to `.py` file\n",
    "\n",
    "According to the examples provided for the package\n",
    "\n",
    "+ start the cells you want exported with the `#|export` or `#|exporti` directive\n",
    "  \n",
    "+ run `nb_export` to convert the `.ipynb` to `.py`"
   ]
  },
  {
   "cell_type": "code",
   "execution_count": 25,
   "id": "3400b5f1-41dc-47bf-bef8-ab879a108415",
   "metadata": {},
   "outputs": [
    {
     "name": "stdout",
     "output_type": "stream",
     "text": [
      "The autoreload extension is already loaded. To reload it, use:\n",
      "  %reload_ext autoreload\n"
     ]
    }
   ],
   "source": [
    "%load_ext autoreload\n",
    "\n",
    "%autoreload 2"
   ]
  },
  {
   "cell_type": "code",
   "execution_count": 26,
   "id": "a985bc7d-e36c-4ae5-8d07-c0848d42f967",
   "metadata": {},
   "outputs": [
    {
     "data": {
      "text/html": [
       "<style>.container { width:100% !important; }</style>"
      ],
      "text/plain": [
       "<IPython.core.display.HTML object>"
      ]
     },
     "metadata": {},
     "output_type": "display_data"
    }
   ],
   "source": [
    "from IPython.display import display, HTML\n",
    "display(HTML(\"<style>.container { width:100% !important; }</style>\"))"
   ]
  },
  {
   "cell_type": "code",
   "execution_count": 27,
   "id": "e4dcb1c0-ef5a-4529-8a5c-c3a4f07492cf",
   "metadata": {
    "editable": true,
    "slideshow": {
     "slide_type": ""
    },
    "tags": []
   },
   "outputs": [],
   "source": [
    "# |exporti\n",
    "\n",
    "# import the neccessary packages\n",
    "import streamlit as st\n",
    "\n",
    "from streamlit_jupyter import StreamlitPatcher, tqdm\n",
    "\n",
    "import pandas as pd\n",
    "import numpy as np\n",
    "import matplotlib.pyplot as plt\n",
    "import seaborn as sns\n",
    "\n",
    "import io\n"
   ]
  },
  {
   "cell_type": "code",
   "execution_count": 28,
   "id": "d1021a7a-8d35-4880-8da8-f272746376af",
   "metadata": {},
   "outputs": [],
   "source": [
    "sp = StreamlitPatcher()\n",
    "sp.jupyter() # register patcher with streamlit"
   ]
  },
  {
   "cell_type": "code",
   "execution_count": 29,
   "id": "7499386c-c412-4619-be8b-374a05f5f662",
   "metadata": {},
   "outputs": [
    {
     "data": {
      "text/markdown": [
       "# BWF Tournaments"
      ],
      "text/plain": [
       "<IPython.core.display.Markdown object>"
      ]
     },
     "metadata": {},
     "output_type": "display_data"
    }
   ],
   "source": [
    "# |exporti\n",
    "\n",
    "st.title(\"BWF Tournaments\")"
   ]
  },
  {
   "cell_type": "code",
   "execution_count": 30,
   "id": "47dcf772-a18b-445b-8991-f750be3ecf7f",
   "metadata": {},
   "outputs": [
    {
     "data": {
      "text/markdown": [
       " ## Fetch the data from csv file and store it in a variable."
      ],
      "text/plain": [
       "<IPython.core.display.Markdown object>"
      ]
     },
     "metadata": {},
     "output_type": "display_data"
    }
   ],
   "source": [
    "# |exporti\n",
    "\n",
    "st.markdown(f\" ## Fetch the data from csv file and store it in a variable.\")"
   ]
  },
  {
   "cell_type": "code",
   "execution_count": 31,
   "id": "e39bd956-a21c-4b38-9292-8eebbe4f67e9",
   "metadata": {},
   "outputs": [],
   "source": [
    "# |exporti\n",
    "\n",
    "tournaments_df = pd.read_csv('./data/tournaments.csv', index_col=0)\n",
    "\n",
    "pd.set_option('display.max_colwidth', None)"
   ]
  },
  {
   "cell_type": "code",
   "execution_count": 32,
   "id": "01bccf41-b78a-47f9-977e-227f75ed929a",
   "metadata": {},
   "outputs": [
    {
     "data": {
      "text/markdown": [
       "```None\n",
       "<class 'pandas.core.frame.DataFrame'>\n",
       "Index: 330 entries, Badminton Asia West Asia Regional Junior Championships 2022 (Individual) to VICTOR Oceania Championships 2024\n",
       "Data columns (total 7 columns):\n",
       " #   Column        Non-Null Count  Dtype \n",
       "---  ------        --------------  ----- \n",
       " 0   organization  330 non-null    object\n",
       " 1   city          330 non-null    object\n",
       " 2   country       330 non-null    object\n",
       " 3   type          254 non-null    object\n",
       " 4   start_date    330 non-null    object\n",
       " 5   end_date      330 non-null    object\n",
       " 6   link          330 non-null    object\n",
       "dtypes: object(7)\n",
       "memory usage: 20.6+ KB\n",
       "\n",
       "```"
      ],
      "text/plain": [
       "<IPython.core.display.Markdown object>"
      ]
     },
     "metadata": {},
     "output_type": "display_data"
    }
   ],
   "source": [
    "# |exporti\n",
    "\n",
    "# To display the output in your Streamlit app, pipe the output of df.info to a buffer instead of sys.stdout, \n",
    "# get the buffer content, and display it with st.text like so:\n",
    "buffer = io.StringIO()\n",
    "tournaments_df.info(buf=buffer)\n",
    "df_tournaments_info = buffer.getvalue()\n",
    "\n",
    "st.text(df_tournaments_info)"
   ]
  },
  {
   "cell_type": "code",
   "execution_count": 33,
   "id": "24ae3b8b-82c0-4665-9d0b-9b1aa698182c",
   "metadata": {},
   "outputs": [
    {
     "data": {
      "text/html": [
       "<div>\n",
       "<style scoped>\n",
       "    .dataframe tbody tr th:only-of-type {\n",
       "        vertical-align: middle;\n",
       "    }\n",
       "\n",
       "    .dataframe tbody tr th {\n",
       "        vertical-align: top;\n",
       "    }\n",
       "\n",
       "    .dataframe thead th {\n",
       "        text-align: right;\n",
       "    }\n",
       "</style>\n",
       "<table border=\"1\" class=\"dataframe\">\n",
       "  <thead>\n",
       "    <tr style=\"text-align: right;\">\n",
       "      <th></th>\n",
       "      <th>organization</th>\n",
       "      <th>city</th>\n",
       "      <th>country</th>\n",
       "      <th>type</th>\n",
       "      <th>start_date</th>\n",
       "      <th>end_date</th>\n",
       "      <th>link</th>\n",
       "    </tr>\n",
       "  </thead>\n",
       "  <tbody>\n",
       "    <tr>\n",
       "      <th>count</th>\n",
       "      <td>330</td>\n",
       "      <td>330</td>\n",
       "      <td>330</td>\n",
       "      <td>254</td>\n",
       "      <td>330</td>\n",
       "      <td>330</td>\n",
       "      <td>330</td>\n",
       "    </tr>\n",
       "    <tr>\n",
       "      <th>unique</th>\n",
       "      <td>70</td>\n",
       "      <td>202</td>\n",
       "      <td>89</td>\n",
       "      <td>26</td>\n",
       "      <td>187</td>\n",
       "      <td>117</td>\n",
       "      <td>319</td>\n",
       "    </tr>\n",
       "    <tr>\n",
       "      <th>top</th>\n",
       "      <td>Badminton World Federation</td>\n",
       "      <td>Kuala Lumpur</td>\n",
       "      <td>Malaysia</td>\n",
       "      <td>International Challenge</td>\n",
       "      <td>11/8/2022</td>\n",
       "      <td>12/10/2023</td>\n",
       "      <td>/sport/tournament?id=B0AA8448-FEF1-43D7-9B52-EFA216EB8801</td>\n",
       "    </tr>\n",
       "    <tr>\n",
       "      <th>freq</th>\n",
       "      <td>79</td>\n",
       "      <td>8</td>\n",
       "      <td>14</td>\n",
       "      <td>43</td>\n",
       "      <td>6</td>\n",
       "      <td>13</td>\n",
       "      <td>2</td>\n",
       "    </tr>\n",
       "  </tbody>\n",
       "</table>\n",
       "</div>"
      ],
      "text/plain": [
       "                      organization          city   country  \\\n",
       "count                          330           330       330   \n",
       "unique                          70           202        89   \n",
       "top     Badminton World Federation  Kuala Lumpur  Malaysia   \n",
       "freq                            79             8        14   \n",
       "\n",
       "                           type start_date    end_date  \\\n",
       "count                       254        330         330   \n",
       "unique                       26        187         117   \n",
       "top     International Challenge  11/8/2022  12/10/2023   \n",
       "freq                         43          6          13   \n",
       "\n",
       "                                                             link  \n",
       "count                                                         330  \n",
       "unique                                                        319  \n",
       "top     /sport/tournament?id=B0AA8448-FEF1-43D7-9B52-EFA216EB8801  \n",
       "freq                                                            2  "
      ]
     },
     "metadata": {},
     "output_type": "display_data"
    }
   ],
   "source": [
    "# |exporti\n",
    "\n",
    "st.write(tournaments_df.describe())"
   ]
  },
  {
   "cell_type": "code",
   "execution_count": 34,
   "id": "aa485b6c-af1b-4747-a3d6-b8fe12c634d3",
   "metadata": {},
   "outputs": [
    {
     "data": {
      "text/markdown": [
       "\n",
       "As we see the total count for each column other than type is 325. And the total count in Type is only 250. so need to figure out what types are missing and how to fill those or remove those if necessary. \n",
       "\n",
       "Aditionally from the original dataset there's no index column. let's start with adding index column to the dataframe. \n"
      ],
      "text/plain": [
       "<IPython.core.display.Markdown object>"
      ]
     },
     "metadata": {},
     "output_type": "display_data"
    }
   ],
   "source": [
    "# |exporti\n",
    "\n",
    "st.markdown(\n",
    "\"\"\"\n",
    "As we see the total count for each column other than type is 325. And the total count in Type is only 250. so need to figure out what types are missing and how to fill those or remove those if necessary. \n",
    "\n",
    "Aditionally from the original dataset there's no index column. let's start with adding index column to the dataframe. \n",
    "\"\"\"\n",
    ")"
   ]
  },
  {
   "cell_type": "code",
   "execution_count": 35,
   "id": "ab754663-7b7f-4fa3-af2e-f8450d5010c5",
   "metadata": {},
   "outputs": [],
   "source": [
    "# |exporti\n",
    "\n",
    "# add a new integer index column to the dataframe\n",
    "tournaments_df.reset_index(inplace=True)\n",
    "tournaments_df = tournaments_df.rename_axis('Index')"
   ]
  },
  {
   "cell_type": "code",
   "execution_count": 36,
   "id": "42becd12-8d33-4b44-8743-bedc0c50115d",
   "metadata": {
    "editable": true,
    "slideshow": {
     "slide_type": ""
    },
    "tags": []
   },
   "outputs": [
    {
     "data": {
      "text/markdown": [
       " ### Let's see our dataframe now with a proper index and first 10 results to get a sense of how it's looking"
      ],
      "text/plain": [
       "<IPython.core.display.Markdown object>"
      ]
     },
     "metadata": {},
     "output_type": "display_data"
    },
    {
     "data": {
      "text/html": [
       "<div>\n",
       "<style scoped>\n",
       "    .dataframe tbody tr th:only-of-type {\n",
       "        vertical-align: middle;\n",
       "    }\n",
       "\n",
       "    .dataframe tbody tr th {\n",
       "        vertical-align: top;\n",
       "    }\n",
       "\n",
       "    .dataframe thead th {\n",
       "        text-align: right;\n",
       "    }\n",
       "</style>\n",
       "<table border=\"1\" class=\"dataframe\">\n",
       "  <thead>\n",
       "    <tr style=\"text-align: right;\">\n",
       "      <th></th>\n",
       "      <th>name</th>\n",
       "      <th>organization</th>\n",
       "      <th>city</th>\n",
       "      <th>country</th>\n",
       "      <th>type</th>\n",
       "      <th>start_date</th>\n",
       "      <th>end_date</th>\n",
       "      <th>link</th>\n",
       "    </tr>\n",
       "    <tr>\n",
       "      <th>Index</th>\n",
       "      <th></th>\n",
       "      <th></th>\n",
       "      <th></th>\n",
       "      <th></th>\n",
       "      <th></th>\n",
       "      <th></th>\n",
       "      <th></th>\n",
       "      <th></th>\n",
       "    </tr>\n",
       "  </thead>\n",
       "  <tbody>\n",
       "    <tr>\n",
       "      <th>0</th>\n",
       "      <td>Badminton Asia West Asia Regional Junior Championships 2022 (Individual)</td>\n",
       "      <td>BWF - Badminton Asia Confederation</td>\n",
       "      <td>Jaber Al-Ahmad City</td>\n",
       "      <td>Kuwait</td>\n",
       "      <td>NaN</td>\n",
       "      <td>11/5/2022</td>\n",
       "      <td>11/7/2022</td>\n",
       "      <td>/sport/tournament?id=C1215BDB-83B1-4931-9BF3-0ED6756AA550</td>\n",
       "    </tr>\n",
       "    <tr>\n",
       "      <th>1</th>\n",
       "      <td>Badminton Asia West Asia Regional Junior Championships 2022 (Team) -Cancelled</td>\n",
       "      <td>Badminton Asia Confederation</td>\n",
       "      <td>TBC</td>\n",
       "      <td>Kuwait</td>\n",
       "      <td>Grade 1 – Junior Team Tournaments</td>\n",
       "      <td>11/8/2022</td>\n",
       "      <td>11/10/2022</td>\n",
       "      <td>/sport/tournament?id=75E6B18B-4108-4FED-88AE-8743ACB345FC</td>\n",
       "    </tr>\n",
       "    <tr>\n",
       "      <th>2</th>\n",
       "      <td>YONEX-SUNRISE Hong Kong Open 2022 (Cancelled)</td>\n",
       "      <td>Badminton World Federation</td>\n",
       "      <td>Kowloon</td>\n",
       "      <td>Hong Kong China</td>\n",
       "      <td>HSBC BWF World Tour Super 500</td>\n",
       "      <td>11/8/2022</td>\n",
       "      <td>11/13/2022</td>\n",
       "      <td>/sport/tournament?id=3070A32C-117F-407C-90F1-F71EC3A7514D</td>\n",
       "    </tr>\n",
       "    <tr>\n",
       "      <th>3</th>\n",
       "      <td>III Guatemala Future Series 2022</td>\n",
       "      <td>BWF - Federacion Nacional de Badminton de Guatemal</td>\n",
       "      <td>Guatemala</td>\n",
       "      <td>Guatemala</td>\n",
       "      <td>Future Series</td>\n",
       "      <td>11/8/2022</td>\n",
       "      <td>11/13/2022</td>\n",
       "      <td>/sport/tournament?id=9BCD5E7D-D5A9-4FC2-9EBF-CCD119B6E00D</td>\n",
       "    </tr>\n",
       "    <tr>\n",
       "      <th>4</th>\n",
       "      <td>PETRONAS Malaysia International Series 2022 (New Dates)</td>\n",
       "      <td>BWF - Badminton Association of Malaysia</td>\n",
       "      <td>Ipoh</td>\n",
       "      <td>Malaysia</td>\n",
       "      <td>International Series</td>\n",
       "      <td>11/8/2022</td>\n",
       "      <td>11/13/2022</td>\n",
       "      <td>/sport/tournament?id=B1B0DCD4-9D69-4AA2-B3BB-6AFE5FEC6434</td>\n",
       "    </tr>\n",
       "    <tr>\n",
       "      <th>5</th>\n",
       "      <td>Singapore Junior International Series 2022 (Cancelled)</td>\n",
       "      <td>BWF - Badminton Asia Confederation</td>\n",
       "      <td>Singapore</td>\n",
       "      <td>Singapore</td>\n",
       "      <td>Junior International Series</td>\n",
       "      <td>11/8/2022</td>\n",
       "      <td>11/13/2022</td>\n",
       "      <td>/sport/tournament?id=93DE3750-7CA7-4528-8423-6F907747268C</td>\n",
       "    </tr>\n",
       "    <tr>\n",
       "      <th>6</th>\n",
       "      <td>VICTOR EXIST Junior International Series 2022 (Cancelled)</td>\n",
       "      <td>BWF - Badminton Asia Confederation</td>\n",
       "      <td>Jakarta</td>\n",
       "      <td>Indonesia</td>\n",
       "      <td>Junior International Series</td>\n",
       "      <td>11/8/2022</td>\n",
       "      <td>11/13/2022</td>\n",
       "      <td>/sport/tournament?id=F586832E-1B43-4310-93A7-BBA46D9EB02E</td>\n",
       "    </tr>\n",
       "    <tr>\n",
       "      <th>7</th>\n",
       "      <td>Turkey U17 Open 2022 (Cancelled)</td>\n",
       "      <td>Badminton Europe</td>\n",
       "      <td>Kecioren</td>\n",
       "      <td>Turkiye</td>\n",
       "      <td>NaN</td>\n",
       "      <td>11/10/2022</td>\n",
       "      <td>11/13/2022</td>\n",
       "      <td>/sport/tournament?id=D0662545-19F7-454C-B9F1-55C43CB06B67</td>\n",
       "    </tr>\n",
       "    <tr>\n",
       "      <th>8</th>\n",
       "      <td>FZ FORZA Norwegian International 2022</td>\n",
       "      <td>Badminton Europe</td>\n",
       "      <td>Sandefjord</td>\n",
       "      <td>Norway</td>\n",
       "      <td>International Series</td>\n",
       "      <td>11/10/2022</td>\n",
       "      <td>11/13/2022</td>\n",
       "      <td>/sport/tournament?id=FC24903E-7B56-432B-BA88-74DF508B9E56</td>\n",
       "    </tr>\n",
       "    <tr>\n",
       "      <th>9</th>\n",
       "      <td>YONEX Latvia Junior 2022</td>\n",
       "      <td>Badminton Europe</td>\n",
       "      <td>Sigulda</td>\n",
       "      <td>Latvia</td>\n",
       "      <td>Junior International Series</td>\n",
       "      <td>11/11/2022</td>\n",
       "      <td>11/13/2022</td>\n",
       "      <td>/sport/tournament?id=FD0902D0-6121-47E5-AEF6-70C37EA7A087</td>\n",
       "    </tr>\n",
       "  </tbody>\n",
       "</table>\n",
       "</div>"
      ],
      "text/plain": [
       "                                                                                name  \\\n",
       "Index                                                                                  \n",
       "0           Badminton Asia West Asia Regional Junior Championships 2022 (Individual)   \n",
       "1      Badminton Asia West Asia Regional Junior Championships 2022 (Team) -Cancelled   \n",
       "2                                      YONEX-SUNRISE Hong Kong Open 2022 (Cancelled)   \n",
       "3                                                   III Guatemala Future Series 2022   \n",
       "4                            PETRONAS Malaysia International Series 2022 (New Dates)   \n",
       "5                             Singapore Junior International Series 2022 (Cancelled)   \n",
       "6                          VICTOR EXIST Junior International Series 2022 (Cancelled)   \n",
       "7                                                   Turkey U17 Open 2022 (Cancelled)   \n",
       "8                                              FZ FORZA Norwegian International 2022   \n",
       "9                                                           YONEX Latvia Junior 2022   \n",
       "\n",
       "                                             organization  \\\n",
       "Index                                                       \n",
       "0                      BWF - Badminton Asia Confederation   \n",
       "1                            Badminton Asia Confederation   \n",
       "2                              Badminton World Federation   \n",
       "3      BWF - Federacion Nacional de Badminton de Guatemal   \n",
       "4                 BWF - Badminton Association of Malaysia   \n",
       "5                      BWF - Badminton Asia Confederation   \n",
       "6                      BWF - Badminton Asia Confederation   \n",
       "7                                        Badminton Europe   \n",
       "8                                        Badminton Europe   \n",
       "9                                        Badminton Europe   \n",
       "\n",
       "                      city          country  \\\n",
       "Index                                         \n",
       "0      Jaber Al-Ahmad City           Kuwait   \n",
       "1                      TBC           Kuwait   \n",
       "2                  Kowloon  Hong Kong China   \n",
       "3                Guatemala        Guatemala   \n",
       "4                     Ipoh         Malaysia   \n",
       "5                Singapore        Singapore   \n",
       "6                  Jakarta        Indonesia   \n",
       "7                 Kecioren          Turkiye   \n",
       "8               Sandefjord           Norway   \n",
       "9                  Sigulda           Latvia   \n",
       "\n",
       "                                    type  start_date    end_date  \\\n",
       "Index                                                              \n",
       "0                                    NaN   11/5/2022   11/7/2022   \n",
       "1      Grade 1 – Junior Team Tournaments   11/8/2022  11/10/2022   \n",
       "2          HSBC BWF World Tour Super 500   11/8/2022  11/13/2022   \n",
       "3                          Future Series   11/8/2022  11/13/2022   \n",
       "4                   International Series   11/8/2022  11/13/2022   \n",
       "5            Junior International Series   11/8/2022  11/13/2022   \n",
       "6            Junior International Series   11/8/2022  11/13/2022   \n",
       "7                                    NaN  11/10/2022  11/13/2022   \n",
       "8                   International Series  11/10/2022  11/13/2022   \n",
       "9            Junior International Series  11/11/2022  11/13/2022   \n",
       "\n",
       "                                                            link  \n",
       "Index                                                             \n",
       "0      /sport/tournament?id=C1215BDB-83B1-4931-9BF3-0ED6756AA550  \n",
       "1      /sport/tournament?id=75E6B18B-4108-4FED-88AE-8743ACB345FC  \n",
       "2      /sport/tournament?id=3070A32C-117F-407C-90F1-F71EC3A7514D  \n",
       "3      /sport/tournament?id=9BCD5E7D-D5A9-4FC2-9EBF-CCD119B6E00D  \n",
       "4      /sport/tournament?id=B1B0DCD4-9D69-4AA2-B3BB-6AFE5FEC6434  \n",
       "5      /sport/tournament?id=93DE3750-7CA7-4528-8423-6F907747268C  \n",
       "6      /sport/tournament?id=F586832E-1B43-4310-93A7-BBA46D9EB02E  \n",
       "7      /sport/tournament?id=D0662545-19F7-454C-B9F1-55C43CB06B67  \n",
       "8      /sport/tournament?id=FC24903E-7B56-432B-BA88-74DF508B9E56  \n",
       "9      /sport/tournament?id=FD0902D0-6121-47E5-AEF6-70C37EA7A087  "
      ]
     },
     "metadata": {},
     "output_type": "display_data"
    }
   ],
   "source": [
    "# |exporti\n",
    "st.markdown(f\" ### Let's see our dataframe now with a proper index and first 10 results to get a sense of how it's looking\")\n",
    "\n",
    "st.dataframe(tournaments_df.head(10))"
   ]
  },
  {
   "cell_type": "code",
   "execution_count": 37,
   "id": "d7f33563-960e-42a9-b2be-81bcb3550aad",
   "metadata": {},
   "outputs": [
    {
     "data": {
      "text/markdown": [
       "\n",
       "Now we have added the proper integier index column let's focus on missing values in `type`.  \n"
      ],
      "text/plain": [
       "<IPython.core.display.Markdown object>"
      ]
     },
     "metadata": {},
     "output_type": "display_data"
    }
   ],
   "source": [
    "# |exporti\n",
    "\n",
    "st.markdown(\n",
    "\"\"\"\n",
    "Now we have added the proper integier index column let's focus on missing values in `type`.  \n",
    "\"\"\"\n",
    ")"
   ]
  },
  {
   "cell_type": "code",
   "execution_count": 38,
   "id": "7d3c0f1b-a778-43b5-8d48-abaae8a79012",
   "metadata": {
    "editable": true,
    "slideshow": {
     "slide_type": ""
    },
    "tags": []
   },
   "outputs": [
    {
     "data": {
      "text/markdown": [
       " ### This following output is the list of values with NaN in the dataframe"
      ],
      "text/plain": [
       "<IPython.core.display.Markdown object>"
      ]
     },
     "metadata": {},
     "output_type": "display_data"
    },
    {
     "data": {
      "text/html": [
       "<div>\n",
       "<style scoped>\n",
       "    .dataframe tbody tr th:only-of-type {\n",
       "        vertical-align: middle;\n",
       "    }\n",
       "\n",
       "    .dataframe tbody tr th {\n",
       "        vertical-align: top;\n",
       "    }\n",
       "\n",
       "    .dataframe thead th {\n",
       "        text-align: right;\n",
       "    }\n",
       "</style>\n",
       "<table border=\"1\" class=\"dataframe\">\n",
       "  <thead>\n",
       "    <tr style=\"text-align: right;\">\n",
       "      <th></th>\n",
       "      <th>name</th>\n",
       "      <th>organization</th>\n",
       "      <th>city</th>\n",
       "      <th>country</th>\n",
       "      <th>type</th>\n",
       "      <th>start_date</th>\n",
       "      <th>end_date</th>\n",
       "      <th>link</th>\n",
       "    </tr>\n",
       "    <tr>\n",
       "      <th>Index</th>\n",
       "      <th></th>\n",
       "      <th></th>\n",
       "      <th></th>\n",
       "      <th></th>\n",
       "      <th></th>\n",
       "      <th></th>\n",
       "      <th></th>\n",
       "      <th></th>\n",
       "    </tr>\n",
       "  </thead>\n",
       "  <tbody>\n",
       "    <tr>\n",
       "      <th>0</th>\n",
       "      <td>Badminton Asia West Asia Regional Junior Championships 2022 (Individual)</td>\n",
       "      <td>BWF - Badminton Asia Confederation</td>\n",
       "      <td>Jaber Al-Ahmad City</td>\n",
       "      <td>Kuwait</td>\n",
       "      <td>NaN</td>\n",
       "      <td>11/5/2022</td>\n",
       "      <td>11/7/2022</td>\n",
       "      <td>/sport/tournament?id=C1215BDB-83B1-4931-9BF3-0ED6756AA550</td>\n",
       "    </tr>\n",
       "    <tr>\n",
       "      <th>7</th>\n",
       "      <td>Turkey U17 Open 2022 (Cancelled)</td>\n",
       "      <td>Badminton Europe</td>\n",
       "      <td>Kecioren</td>\n",
       "      <td>Turkiye</td>\n",
       "      <td>NaN</td>\n",
       "      <td>11/10/2022</td>\n",
       "      <td>11/13/2022</td>\n",
       "      <td>/sport/tournament?id=D0662545-19F7-454C-B9F1-55C43CB06B67</td>\n",
       "    </tr>\n",
       "    <tr>\n",
       "      <th>17</th>\n",
       "      <td>YONEX Estonian U17 International 2022</td>\n",
       "      <td>Badminton Europe</td>\n",
       "      <td>Tartu</td>\n",
       "      <td>Estonia</td>\n",
       "      <td>NaN</td>\n",
       "      <td>12/9/2022</td>\n",
       "      <td>12/11/2022</td>\n",
       "      <td>/sport/tournament?id=6059B732-1580-42E9-9EA6-2BE7A9E90BE2</td>\n",
       "    </tr>\n",
       "    <tr>\n",
       "      <th>33</th>\n",
       "      <td>Swedish Youth Games (U17) 2022</td>\n",
       "      <td>BWF - Swedish Badminton Association</td>\n",
       "      <td>Malmö</td>\n",
       "      <td>Sweden</td>\n",
       "      <td>NaN</td>\n",
       "      <td>11/18/2022</td>\n",
       "      <td>11/20/2022</td>\n",
       "      <td>/sport/tournament?id=2CF79894-967F-4695-829C-16C929133CF6</td>\n",
       "    </tr>\n",
       "    <tr>\n",
       "      <th>40</th>\n",
       "      <td>II U17 Portugal Open 2022</td>\n",
       "      <td>BWF - Portugal Badminton Federation</td>\n",
       "      <td>Caldas da Rainha</td>\n",
       "      <td>Portugal</td>\n",
       "      <td>NaN</td>\n",
       "      <td>11/25/2022</td>\n",
       "      <td>11/27/2022</td>\n",
       "      <td>/sport/tournament?id=D8F749CA-31BD-41A1-9FD7-CEF7F43D6741</td>\n",
       "    </tr>\n",
       "  </tbody>\n",
       "</table>\n",
       "</div>"
      ],
      "text/plain": [
       "                                                                           name  \\\n",
       "Index                                                                             \n",
       "0      Badminton Asia West Asia Regional Junior Championships 2022 (Individual)   \n",
       "7                                              Turkey U17 Open 2022 (Cancelled)   \n",
       "17                                        YONEX Estonian U17 International 2022   \n",
       "33                                               Swedish Youth Games (U17) 2022   \n",
       "40                                                    II U17 Portugal Open 2022   \n",
       "\n",
       "                              organization                 city   country  \\\n",
       "Index                                                                       \n",
       "0       BWF - Badminton Asia Confederation  Jaber Al-Ahmad City    Kuwait   \n",
       "7                         Badminton Europe             Kecioren   Turkiye   \n",
       "17                        Badminton Europe                Tartu   Estonia   \n",
       "33     BWF - Swedish Badminton Association                Malmö    Sweden   \n",
       "40     BWF - Portugal Badminton Federation     Caldas da Rainha  Portugal   \n",
       "\n",
       "      type  start_date    end_date  \\\n",
       "Index                                \n",
       "0      NaN   11/5/2022   11/7/2022   \n",
       "7      NaN  11/10/2022  11/13/2022   \n",
       "17     NaN   12/9/2022  12/11/2022   \n",
       "33     NaN  11/18/2022  11/20/2022   \n",
       "40     NaN  11/25/2022  11/27/2022   \n",
       "\n",
       "                                                            link  \n",
       "Index                                                             \n",
       "0      /sport/tournament?id=C1215BDB-83B1-4931-9BF3-0ED6756AA550  \n",
       "7      /sport/tournament?id=D0662545-19F7-454C-B9F1-55C43CB06B67  \n",
       "17     /sport/tournament?id=6059B732-1580-42E9-9EA6-2BE7A9E90BE2  \n",
       "33     /sport/tournament?id=2CF79894-967F-4695-829C-16C929133CF6  \n",
       "40     /sport/tournament?id=D8F749CA-31BD-41A1-9FD7-CEF7F43D6741  "
      ]
     },
     "metadata": {},
     "output_type": "display_data"
    }
   ],
   "source": [
    "# |exporti\n",
    "\n",
    "# find if there's any missing values. \n",
    "tournaments_df_nan_values = tournaments_df[tournaments_df.isna().any(axis=1)]\n",
    "\n",
    "st.markdown(f\" ### This following output is the list of values with NaN in the dataframe\")\n",
    "st.dataframe(tournaments_df_nan_values.head())"
   ]
  },
  {
   "cell_type": "code",
   "execution_count": 39,
   "id": "6187ec26-3848-4bd4-9a24-4f96aefc0008",
   "metadata": {},
   "outputs": [
    {
     "data": {
      "text/markdown": [
       "\n",
       "after carefully observing the tournament events on BWF tournament software website and learning the event types and tournament structure grading, \n",
       "    the missing types are mostly `Grade 3 and Junior` tournaments. \n",
       "    https://corporate.bwfbadminton.com/events/    \n"
      ],
      "text/plain": [
       "<IPython.core.display.Markdown object>"
      ]
     },
     "metadata": {},
     "output_type": "display_data"
    }
   ],
   "source": [
    "# |exporti\n",
    "\n",
    "st.markdown(f'''\n",
    "after carefully observing the tournament events on BWF tournament software website and learning the event types and tournament structure grading, \n",
    "    the missing types are mostly `Grade 3 and Junior` tournaments. \n",
    "    https://corporate.bwfbadminton.com/events/    \n",
    "'''\n",
    ")\n"
   ]
  },
  {
   "cell_type": "code",
   "execution_count": 40,
   "id": "ef242ef2-928d-4fd9-bd5b-ca13ef53b976",
   "metadata": {},
   "outputs": [],
   "source": [
    "# |exporti\n",
    "\n",
    "# fill missing values with `Grade 3 and Junior`\n",
    "\n",
    "tournaments_df['type'].fillna('Grade 3 and Junior', inplace=True)"
   ]
  },
  {
   "cell_type": "code",
   "execution_count": 41,
   "id": "7d836209-63a0-48aa-a071-9db9d1f92e17",
   "metadata": {
    "editable": true,
    "slideshow": {
     "slide_type": ""
    },
    "tags": []
   },
   "outputs": [
    {
     "data": {
      "text/markdown": [
       " ### Now we filled the missing values in `type` with `Grade 3 and Junior`, next let's convert the `start_date` and `end_date` to `datetime64[ns]` Dtype instead of object "
      ],
      "text/plain": [
       "<IPython.core.display.Markdown object>"
      ]
     },
     "metadata": {},
     "output_type": "display_data"
    }
   ],
   "source": [
    "# |exporti\n",
    "\n",
    "st.markdown(f\" ### Now we filled the missing values in `type` with `Grade 3 and Junior`, next let's convert the `start_date` and `end_date` to `datetime64[ns]` Dtype instead of object \")\n",
    "\n",
    "tournaments_df['start_date'] = pd.to_datetime(tournaments_df['start_date'])\n",
    "tournaments_df['end_date'] = pd.to_datetime(tournaments_df['end_date'])\n"
   ]
  },
  {
   "cell_type": "code",
   "execution_count": 42,
   "id": "79cb18eb-5d12-4aed-98bc-af5023e22a59",
   "metadata": {},
   "outputs": [
    {
     "data": {
      "text/markdown": [
       "\n",
       "There, now we have all the dataset with `no null` values and the right Dtypes necessary to move further. \n"
      ],
      "text/plain": [
       "<IPython.core.display.Markdown object>"
      ]
     },
     "metadata": {},
     "output_type": "display_data"
    }
   ],
   "source": [
    "# |exporti\n",
    "\n",
    "st.markdown('''\n",
    "There, now we have all the dataset with `no null` values and the right Dtypes necessary to move further. \n",
    "''')"
   ]
  },
  {
   "cell_type": "code",
   "execution_count": 43,
   "id": "08d75b15-371d-4bfa-a281-615ce181a74b",
   "metadata": {},
   "outputs": [
    {
     "data": {
      "text/markdown": [
       " lets recheck our dateframe info after the fixes we did to make sure its looking good to proceed"
      ],
      "text/plain": [
       "<IPython.core.display.Markdown object>"
      ]
     },
     "metadata": {},
     "output_type": "display_data"
    },
    {
     "data": {
      "text/markdown": [
       "```None\n",
       "<class 'pandas.core.frame.DataFrame'>\n",
       "RangeIndex: 330 entries, 0 to 329\n",
       "Data columns (total 8 columns):\n",
       " #   Column        Non-Null Count  Dtype         \n",
       "---  ------        --------------  -----         \n",
       " 0   name          330 non-null    object        \n",
       " 1   organization  330 non-null    object        \n",
       " 2   city          330 non-null    object        \n",
       " 3   country       330 non-null    object        \n",
       " 4   type          330 non-null    object        \n",
       " 5   start_date    330 non-null    datetime64[ns]\n",
       " 6   end_date      330 non-null    datetime64[ns]\n",
       " 7   link          330 non-null    object        \n",
       "dtypes: datetime64[ns](2), object(6)\n",
       "memory usage: 20.8+ KB\n",
       "\n",
       "```"
      ],
      "text/plain": [
       "<IPython.core.display.Markdown object>"
      ]
     },
     "metadata": {},
     "output_type": "display_data"
    }
   ],
   "source": [
    "# |exporti\n",
    "\n",
    "st.markdown(f\" lets recheck our dateframe info after the fixes we did to make sure its looking good to proceed\")\n",
    "buffer = io.StringIO()\n",
    "tournaments_df.info(buf=buffer)\n",
    "df_tournaments_info = buffer.getvalue()\n",
    "\n",
    "st.text(df_tournaments_info)"
   ]
  },
  {
   "cell_type": "code",
   "execution_count": 44,
   "id": "cca39e37-29c1-46bd-8af5-c946cb95baee",
   "metadata": {},
   "outputs": [
    {
     "data": {
      "text/markdown": [
       " ## Processing the variable Countries"
      ],
      "text/plain": [
       "<IPython.core.display.Markdown object>"
      ]
     },
     "metadata": {},
     "output_type": "display_data"
    }
   ],
   "source": [
    "# |exporti\n",
    "\n",
    "st.markdown(f\" ## Processing the variable Countries\")"
   ]
  },
  {
   "cell_type": "code",
   "execution_count": 45,
   "id": "c2f7289a-27eb-4e4b-bb60-35e4904c0b61",
   "metadata": {
    "editable": true,
    "slideshow": {
     "slide_type": ""
    },
    "tags": []
   },
   "outputs": [
    {
     "data": {
      "text/markdown": [
       " first lets fetch all the unique countries who hosted tournaments"
      ],
      "text/plain": [
       "<IPython.core.display.Markdown object>"
      ]
     },
     "metadata": {},
     "output_type": "display_data"
    },
    {
     "data": {
      "text/plain": [
       "array(['Kuwait', 'Hong Kong China', 'Guatemala', 'Malaysia', 'Singapore',\n",
       "       'Indonesia', 'Turkiye', 'Norway', 'Latvia', 'Thailand', 'China',\n",
       "       'Canada', 'Bangladesh', 'Malta', 'Estonia', 'Mauritius',\n",
       "       'Netherlands', 'Poland', 'Switzerland', 'Scotland', 'Bulgaria',\n",
       "       'Australia', 'Ireland', 'Peru', 'Zambia', 'Czech Republic',\n",
       "       'Sweden', 'Korea', 'Bahrain', 'New Zealand', 'Mexico', 'Botswana',\n",
       "       'Slovenia', 'Portugal', 'Slovakia', 'England', 'Cyprus', 'India',\n",
       "       'Iceland', 'Iran', 'Spain', 'Hungary', 'South Africa', 'France',\n",
       "       'United Arab Emirates', 'Uganda', 'Italy', 'Germany', 'Vietnam',\n",
       "       'Japan', 'Israel', 'Belgium', 'Jamaica', 'Luxembourg', 'Austria',\n",
       "       'Cambodia', 'Kazakhstan', 'Chile', 'Maldives',\n",
       "       'Northern Mariana Islands', 'Dominican Republic', 'Lithuania',\n",
       "       'Denmark', 'Mongolia', 'Chinese Taipei', 'Serbia', 'Tunisia',\n",
       "       'U.S.A.', 'Réunion', 'Tajikistan', 'Argentina', 'Brazil',\n",
       "       'Paraguay', 'Nepal', 'Trinidad and Tobago', 'Cameroon', 'Nigeria',\n",
       "       'Benin', 'Croatia', 'Venezuela', 'Finland', 'Iraq', 'Egypt',\n",
       "       'Algeria', 'Suriname', 'Wales', 'El Salvador', 'Azerbaijan',\n",
       "       'Sri Lanka'], dtype=object)"
      ]
     },
     "metadata": {},
     "output_type": "display_data"
    }
   ],
   "source": [
    "# |exporti\n",
    "\n",
    "st.markdown(f\" first lets fetch all the unique countries who hosted tournaments\")\n",
    "\n",
    "st.write(tournaments_df['country'].unique())"
   ]
  },
  {
   "cell_type": "code",
   "execution_count": 46,
   "id": "50d10181-d5e7-4ed8-9466-e9d994651e7e",
   "metadata": {},
   "outputs": [
    {
     "data": {
      "text/markdown": [
       " Creating a bar chart illustrating the frequency of each country hosting a tournament in its home country."
      ],
      "text/plain": [
       "<IPython.core.display.Markdown object>"
      ]
     },
     "metadata": {},
     "output_type": "display_data"
    },
    {
     "data": {
      "image/png": "[encoded data removed]",
      "text/plain": [
       "<Figure size 1800x700 with 1 Axes>"
      ]
     },
     "metadata": {},
     "output_type": "display_data"
    }
   ],
   "source": [
    "# |exporti\n",
    "\n",
    "st.markdown(f\" Creating a bar chart illustrating the frequency of each country hosting a tournament in its home country.\")\n",
    "\n",
    "# Get the unique counts of each country and store the dataframe in a new variable `all_countries`\n",
    "# The resulted all_countries will have two new columns called `country` and `count`\n",
    "all_countries = tournaments_df['country'].value_counts().reset_index()\n",
    "\n",
    "#TODO set these following custom color palette to the bars\n",
    "#colors = ['#40e0d0', '#20b2aa', '#fdaa48','#6890F0','#A890F0']\n",
    "\n",
    "# Create a bar plot with Seaborn\n",
    "fig, ax = plt.subplots(figsize =(18,7))\n",
    "sns.barplot(x=all_countries['country'], y=all_countries['count'], palette='Paired')\n",
    "\n",
    "# set title, xlabel and ylable\n",
    "ax.set_title(\"Counting the Hosts: Badminton Tournaments by Country\", fontsize=15,weight='bold')\n",
    "plt.xlabel('Countries')\n",
    "plt.ylabel('Count')\n",
    "\n",
    "# Rotate x-axis labels vertically\n",
    "plt.xticks(rotation=90, ha='center')\n",
    "\n",
    "# Display count on top of each bar\n",
    "for p in ax.patches:\n",
    "    ax.annotate(f'{int(p.get_height())}', (p.get_x() + p.get_width() / 2., p.get_height()),\n",
    "                ha='center', va='center', xytext=(0, 10), textcoords='offset points')\n",
    "\n",
    "sns.despine(right=True, top=True)\n",
    "\n",
    "st.pyplot(fig)\n",
    "plt.show()"
   ]
  },
  {
   "cell_type": "code",
   "execution_count": 47,
   "id": "2552509b-ac7e-4f24-93b5-3fbdbba3ef3c",
   "metadata": {},
   "outputs": [
    {
     "data": {
      "text/markdown": [
       "\n",
       "As we see `Malaysia` and `China` hosted 14 tournaments making them the leaders in terms of hosting.. \n",
       "Following closely are Indonesia and France, each having hosted 11 tournaments each.\n",
       "\n",
       "we'll check the dates and frequency of these tournaments organized as we go further. \n"
      ],
      "text/plain": [
       "<IPython.core.display.Markdown object>"
      ]
     },
     "metadata": {},
     "output_type": "display_data"
    }
   ],
   "source": [
    "# |exporti\n",
    "\n",
    "st.markdown('''\n",
    "As we see `Malaysia` and `China` hosted 14 tournaments making them the leaders in terms of hosting.. \n",
    "Following closely are Indonesia and France, each having hosted 11 tournaments each.\n",
    "\n",
    "we'll check the dates and frequency of these tournaments organized as we go further. \n",
    "''')"
   ]
  },
  {
   "cell_type": "code",
   "execution_count": 48,
   "id": "db3ca523-36b5-4a58-b5cf-083e1593c940",
   "metadata": {
    "editable": true,
    "slideshow": {
     "slide_type": ""
    },
    "tags": []
   },
   "outputs": [],
   "source": [
    "from nbdev.export import nb_export\n",
    "nb_export('tournaments_eda.ipynb', lib_path = '.', name = 'tournaments')"
   ]
  }
 ],
 "metadata": {
  "kernelspec": {
   "display_name": "Python 3 (ipykernel)",
   "language": "python",
   "name": "python3"
  },
  "language_info": {
   "codemirror_mode": {
    "name": "ipython",
    "version": 3
   },
   "file_extension": ".py",
   "mimetype": "text/x-python",
   "name": "python",
   "nbconvert_exporter": "python",
   "pygments_lexer": "ipython3",
   "version": "3.11.4"
  }
 },
 "nbformat": 4,
 "nbformat_minor": 5
}
